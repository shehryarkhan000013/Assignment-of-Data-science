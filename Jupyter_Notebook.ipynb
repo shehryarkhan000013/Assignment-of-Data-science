{
 "cells": [
  {
   "cell_type": "markdown",
   "metadata": {},
   "source": [
    "<center>\n",
    "    <img src=\"https://cf-courses-data.s3.us.cloud-object-storage.appdomain.cloud/IBMDeveloperSkillsNetwork-DS0105EN-SkillsNetwork/labs/Module2/images/SN_web_lightmode.png\" width=\"300\" alt=\"cognitiveclass.ai logo\">\n",
    "</center>\n"
   ]
  },
  {
   "cell_type": "markdown",
   "metadata": {},
   "source": [
    "#### Add your code below following the instructions given in the course\n"
   ]
  },
  {
   "cell_type": "markdown",
   "metadata": {},
   "source": [
    "# My first assignment on Jupyter notebook"
   ]
  },
  {
   "cell_type": "markdown",
   "metadata": {},
   "source": [
    "MY name is Muhammad Shahryar.\n",
    "\n",
    "I am student of University of Haripur and I am my doing my BSCS degree from UOH."
   ]
  },
  {
   "cell_type": "markdown",
   "metadata": {},
   "source": [
    "### Data science languages\n",
    "- Python \n",
    "- R\n",
    "- SQL\n",
    "- Scala\n",
    "- Java\n",
    "- Java script\n",
    "- C/C++"
   ]
  },
  {
   "cell_type": "markdown",
   "metadata": {},
   "source": [
    "### Data science libraries\n",
    "- Pytorch\n",
    "- Numpy\n",
    "- tensorflow\n",
    "- pandas\n",
    "- scipy\n",
    "- Scikit-learn\n",
    "- Matplolib\n",
    "- Keras"
   ]
  },
  {
   "cell_type": "markdown",
   "metadata": {},
   "source": [
    "| Data Science tools | |\n",
    "| ----| ----|\n",
    "| Matlab   | Apache Spark |\n",
    "| ggplot | IBM watson studio |\n",
    "| Excel   | Tableau |\n",
    "| Rstudio |  |\n",
    "\n"
   ]
  },
  {
   "cell_type": "markdown",
   "metadata": {},
   "source": [
    "### arithmetic expression examples"
   ]
  },
  {
   "cell_type": "code",
   "execution_count": 5,
   "metadata": {},
   "outputs": [
    {
     "name": "stdout",
     "output_type": "stream",
     "text": [
      "706.8375000000001\n"
     ]
    }
   ],
   "source": [
    "# Area of cirlce\n",
    "\n",
    "pi=3.1415\n",
    "radius=15\n",
    "area_of_circle=pi*(radius*radius)\n",
    "print(area_of_circle)"
   ]
  },
  {
   "cell_type": "code",
   "execution_count": 7,
   "metadata": {},
   "outputs": [
    {
     "name": "stdout",
     "output_type": "stream",
     "text": [
      "0.25 h\n"
     ]
    }
   ],
   "source": [
    "# Create a code cell to convert minutes to hours\n",
    "\n",
    "min=15\n",
    "h=60\n",
    "hour=min/h\n",
    "print(hour,\"h\")\n"
   ]
  },
  {
   "cell_type": "markdown",
   "metadata": {},
   "source": [
    " Bulleted List:\n",
    " \n",
    " * Item\n",
    "* Item\n",
    "- Item\n",
    "- Item"
   ]
  },
  {
   "cell_type": "markdown",
   "metadata": {},
   "source": [
    "### Author’s name \n"
   ]
  }
 ],
 "metadata": {
  "kernelspec": {
   "display_name": "Python",
   "language": "python",
   "name": "conda-env-python-py"
  },
  "language_info": {
   "codemirror_mode": {
    "name": "ipython",
    "version": 3
   },
   "file_extension": ".py",
   "mimetype": "text/x-python",
   "name": "python",
   "nbconvert_exporter": "python",
   "pygments_lexer": "ipython3",
   "version": "3.7.12"
  }
 },
 "nbformat": 4,
 "nbformat_minor": 4
}
